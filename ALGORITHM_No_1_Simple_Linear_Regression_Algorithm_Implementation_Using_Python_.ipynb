{
  "nbformat": 4,
  "nbformat_minor": 0,
  "metadata": {
    "colab": {
      "name": "ALGORITHM No. 1 . Simple Linear Regression Algorithm Implementation Using Python  .ipynb",
      "provenance": [],
      "mount_file_id": "1Pf_kK1Ga8FDe9he0ZI5DS20-05g39B3s",
      "authorship_tag": "ABX9TyNFNPub2dLRsQveb63/W1hw",
      "include_colab_link": true
    },
    "kernelspec": {
      "name": "python3",
      "display_name": "Python 3"
    },
    "accelerator": "GPU"
  },
  "cells": [
    {
      "cell_type": "markdown",
      "metadata": {
        "id": "view-in-github",
        "colab_type": "text"
      },
      "source": [
        "<a href=\"https://colab.research.google.com/github/gaurav1210/ALGO-No.-1.-SIMPLE-LINEAR-REGRESSION/blob/master/ALGORITHM_No_1_Simple_Linear_Regression_Algorithm_Implementation_Using_Python_.ipynb\" target=\"_parent\"><img src=\"https://colab.research.google.com/assets/colab-badge.svg\" alt=\"Open In Colab\"/></a>"
      ]
    },
    {
      "cell_type": "markdown",
      "metadata": {
        "id": "4vkCOJEEEBty",
        "colab_type": "text"
      },
      "source": [
        "##  Step 1. Importing all necesary **libraries**"
      ]
    },
    {
      "cell_type": "code",
      "metadata": {
        "id": "VYVrgf7nnn9k",
        "colab_type": "code",
        "outputId": "13d876bb-d51a-43a2-95bc-a793b4e324af",
        "colab": {
          "base_uri": "https://localhost:8080/",
          "height": 55
        }
      },
      "source": [
        "from google.colab import drive\n",
        "drive.mount('/content/drive')"
      ],
      "execution_count": 0,
      "outputs": [
        {
          "output_type": "stream",
          "text": [
            "Drive already mounted at /content/drive; to attempt to forcibly remount, call drive.mount(\"/content/drive\", force_remount=True).\n"
          ],
          "name": "stdout"
        }
      ]
    },
    {
      "cell_type": "code",
      "metadata": {
        "colab_type": "code",
        "id": "vc9w4zJtFfEM",
        "colab": {}
      },
      "source": [
        "import pandas as pd                 # library for dataframe and manipulation\n",
        "import numpy as np                  # Library for numerical calculations \n",
        "import matplotlib.pyplot as plt     # Module for graphical visualizations\n",
        "from sklearn import linear_model    # Package for linear model\n",
        "from sklearn.linear_model import LinearRegression     # Specially calling linear regression\n",
        "from sklearn.model_selection import train_test_split  # Library for spliting datasets   \n",
        "import seaborn as seabornInstance                     # Library for statistical intractive visualization \n",
        "from sklearn import metrics                           #  Matices package for calculting Mean, medain , mode etc."
      ],
      "execution_count": 0,
      "outputs": []
    },
    {
      "cell_type": "markdown",
      "metadata": {
        "id": "0tWBfCPlEh0-",
        "colab_type": "text"
      },
      "source": [
        "## Step 2 & 3 . Loading & Demonstrating the datasets into the **working** **environment**\n"
      ]
    },
    {
      "cell_type": "code",
      "metadata": {
        "id": "2Gb-6GYFtJ_y",
        "colab_type": "code",
        "outputId": "b49cfb80-fb96-415f-c70d-89c1d09d814c",
        "colab": {
          "base_uri": "https://localhost:8080/",
          "height": 35
        }
      },
      "source": [
        "salary = pd.read_csv(\"/content/drive/My Drive/YOUTUBE CONTENT/DATASET/Salary_Data.csv\")      # datasets file reading\n",
        "salary.shape                                 # calculating the total rows and column"
      ],
      "execution_count": 0,
      "outputs": [
        {
          "output_type": "execute_result",
          "data": {
            "text/plain": [
              "(30, 2)"
            ]
          },
          "metadata": {
            "tags": []
          },
          "execution_count": 4
        }
      ]
    },
    {
      "cell_type": "code",
      "metadata": {
        "id": "ny40qVsG30aM",
        "colab_type": "code",
        "outputId": "9040e43f-3410-4912-f205-1b4d80fee5d1",
        "colab": {
          "base_uri": "https://localhost:8080/",
          "height": 555
        }
      },
      "source": [
        "print(salary)                               # printing the datasets "
      ],
      "execution_count": 0,
      "outputs": [
        {
          "output_type": "stream",
          "text": [
            "    YearsExperience    Salary\n",
            "0               1.1   39343.0\n",
            "1               1.3   46205.0\n",
            "2               1.5   37731.0\n",
            "3               2.0   43525.0\n",
            "4               2.2   39891.0\n",
            "5               2.9   56642.0\n",
            "6               3.0   60150.0\n",
            "7               3.2   54445.0\n",
            "8               3.2   64445.0\n",
            "9               3.7   57189.0\n",
            "10              3.9   63218.0\n",
            "11              4.0   55794.0\n",
            "12              4.0   56957.0\n",
            "13              4.1   57081.0\n",
            "14              4.5   61111.0\n",
            "15              4.9   67938.0\n",
            "16              5.1   66029.0\n",
            "17              5.3   83088.0\n",
            "18              5.9   81363.0\n",
            "19              6.0   93940.0\n",
            "20              6.8   91738.0\n",
            "21              7.1   98273.0\n",
            "22              7.9  101302.0\n",
            "23              8.2  113812.0\n",
            "24              8.7  109431.0\n",
            "25              9.0  105582.0\n",
            "26              9.5  116969.0\n",
            "27              9.6  112635.0\n",
            "28             10.3  122391.0\n",
            "29             10.5  121872.0\n"
          ],
          "name": "stdout"
        }
      ]
    },
    {
      "cell_type": "code",
      "metadata": {
        "id": "w50GwqjU4zqH",
        "colab_type": "code",
        "outputId": "a971ea4c-a378-4e5a-ee7a-40fafcc7a8b6",
        "colab": {
          "base_uri": "https://localhost:8080/",
          "height": 555
        }
      },
      "source": [
        "salary.describe                        # Datasets features describing"
      ],
      "execution_count": 0,
      "outputs": [
        {
          "output_type": "execute_result",
          "data": {
            "text/plain": [
              "<bound method NDFrame.describe of     YearsExperience    Salary\n",
              "0               1.1   39343.0\n",
              "1               1.3   46205.0\n",
              "2               1.5   37731.0\n",
              "3               2.0   43525.0\n",
              "4               2.2   39891.0\n",
              "5               2.9   56642.0\n",
              "6               3.0   60150.0\n",
              "7               3.2   54445.0\n",
              "8               3.2   64445.0\n",
              "9               3.7   57189.0\n",
              "10              3.9   63218.0\n",
              "11              4.0   55794.0\n",
              "12              4.0   56957.0\n",
              "13              4.1   57081.0\n",
              "14              4.5   61111.0\n",
              "15              4.9   67938.0\n",
              "16              5.1   66029.0\n",
              "17              5.3   83088.0\n",
              "18              5.9   81363.0\n",
              "19              6.0   93940.0\n",
              "20              6.8   91738.0\n",
              "21              7.1   98273.0\n",
              "22              7.9  101302.0\n",
              "23              8.2  113812.0\n",
              "24              8.7  109431.0\n",
              "25              9.0  105582.0\n",
              "26              9.5  116969.0\n",
              "27              9.6  112635.0\n",
              "28             10.3  122391.0\n",
              "29             10.5  121872.0>"
            ]
          },
          "metadata": {
            "tags": []
          },
          "execution_count": 6
        }
      ]
    },
    {
      "cell_type": "markdown",
      "metadata": {
        "id": "NdLs_d0iJlf8",
        "colab_type": "text"
      },
      "source": [
        "## Step 4 . Visualize the datasets on the **graph**"
      ]
    },
    {
      "cell_type": "code",
      "metadata": {
        "id": "P-ZYADyvJfaF",
        "colab_type": "code",
        "outputId": "748a40da-7f1a-4bfb-ab99-84f91e5cbdb4",
        "colab": {
          "base_uri": "https://localhost:8080/",
          "height": 297
        }
      },
      "source": [
        "%matplotlib inline              \n",
        "plt.xlabel(\"YearsExperience\")    # For demonstrating data on X-axis         \n",
        "plt.ylabel(\"Salary\")             # For demonstrating data on y-axis\n",
        "plt.scatter(salary.YearsExperience,salary.Salary, color= \"blue\", marker=\"*\")  # Scatter plot of datasets"
      ],
      "execution_count": 0,
      "outputs": [
        {
          "output_type": "execute_result",
          "data": {
            "text/plain": [
              "<matplotlib.collections.PathCollection at 0x7f10b521f748>"
            ]
          },
          "metadata": {
            "tags": []
          },
          "execution_count": 7
        },
        {
          "output_type": "display_data",
          "data": {
            "image/png": "[encoded data removed]",
            "text/plain": [
              "<Figure size 432x288 with 1 Axes>"
            ]
          },
          "metadata": {
            "tags": []
          }
        }
      ]
    },
    {
      "cell_type": "code",
      "metadata": {
        "id": "17bzaTq35iP5",
        "colab_type": "code",
        "outputId": "a2eecfda-4c2b-432c-b9ed-7a7716050aa3",
        "colab": {
          "base_uri": "https://localhost:8080/",
          "height": 363
        }
      },
      "source": [
        "plt.figure(figsize=(8,5))                       # Size of graph \n",
        "plt.tight_layout()                             # Layouting of graph \n",
        "seabornInstance.distplot(salary['Salary'])    #.  Function for histogram representation"
      ],
      "execution_count": 0,
      "outputs": [
        {
          "output_type": "execute_result",
          "data": {
            "text/plain": [
              "<matplotlib.axes._subplots.AxesSubplot at 0x7f10b25406d8>"
            ]
          },
          "metadata": {
            "tags": []
          },
          "execution_count": 8
        },
        {
          "output_type": "display_data",
          "data": {
            "image/png": "[encoded data removed]",
            "text/plain": [
              "<Figure size 576x360 with 1 Axes>"
            ]
          },
          "metadata": {
            "tags": []
          }
        }
      ]
    },
    {
      "cell_type": "markdown",
      "metadata": {
        "id": "gGwyfVujPSR0",
        "colab_type": "text"
      },
      "source": [
        "## Step 6. Spliting the datasets into **independent variable(x)** and **dependent variable (y)**"
      ]
    },
    {
      "cell_type": "code",
      "metadata": {
        "id": "wtaTpy3B6wtB",
        "colab_type": "code",
        "colab": {}
      },
      "source": [
        "X = salary['YearsExperience'].values.reshape(-1,1)     # data dividing on x-axis\n",
        "y = salary['Salary'].values.reshape(-1,1)              # data diving on y-axis"
      ],
      "execution_count": 0,
      "outputs": []
    },
    {
      "cell_type": "markdown",
      "metadata": {
        "id": "cmUt50_-8WCW",
        "colab_type": "text"
      },
      "source": [
        "## Step 7. Spliting the datasets into **training and testing part**"
      ]
    },
    {
      "cell_type": "code",
      "metadata": {
        "id": "K05nTl8E7emv",
        "colab_type": "code",
        "colab": {}
      },
      "source": [
        "X_train, X_test, y_train, y_test = train_test_split(X, y, test_size=0.2,random_state=0)"
      ],
      "execution_count": 0,
      "outputs": []
    },
    {
      "cell_type": "markdown",
      "metadata": {
        "id": "uvtMlu3w8paV",
        "colab_type": "text"
      },
      "source": [
        "## Step 8. Training the model with training datasets."
      ]
    },
    {
      "cell_type": "code",
      "metadata": {
        "id": "gVtuPHAG7vrM",
        "colab_type": "code",
        "outputId": "3d709598-a29f-4952-b6bb-1d7b4662f477",
        "colab": {
          "base_uri": "https://localhost:8080/",
          "height": 35
        }
      },
      "source": [
        "model = LinearRegression()  # class of linear_model calling \n",
        "model.fit(X_train, y_train)     #training the algorithm"
      ],
      "execution_count": 0,
      "outputs": [
        {
          "output_type": "execute_result",
          "data": {
            "text/plain": [
              "LinearRegression(copy_X=True, fit_intercept=True, n_jobs=None, normalize=False)"
            ]
          },
          "metadata": {
            "tags": []
          },
          "execution_count": 12
        }
      ]
    },
    {
      "cell_type": "markdown",
      "metadata": {
        "id": "J-OYIxCI898E",
        "colab_type": "text"
      },
      "source": [
        "## Step 9&10 . Retreiving the **Intercept** and **slope or coeficient** value"
      ]
    },
    {
      "cell_type": "code",
      "metadata": {
        "id": "9MLQSevW8omJ",
        "colab_type": "code",
        "outputId": "8d04eb90-7b11-49e8-89b0-1e3616431f03",
        "colab": {
          "base_uri": "https://localhost:8080/",
          "height": 52
        }
      },
      "source": [
        "print(model.intercept_)          #To retrieve the intercept:\n",
        "print(model.coef_)               #For retrieving the slope:"
      ],
      "execution_count": 0,
      "outputs": [
        {
          "output_type": "stream",
          "text": [
            "[26780.09915063]\n",
            "[[9312.57512673]]\n"
          ],
          "name": "stdout"
        }
      ]
    },
    {
      "cell_type": "markdown",
      "metadata": {
        "id": "YMhUoab69nBF",
        "colab_type": "text"
      },
      "source": [
        "## Step 11. **Predicting** the values of dependent variable (Y).\n",
        "\n"
      ]
    },
    {
      "cell_type": "code",
      "metadata": {
        "id": "_5VJ4ICV8txk",
        "colab_type": "code",
        "outputId": "e8ab9957-541e-4c50-e596-b2087ba7dcd0",
        "colab": {
          "base_uri": "https://localhost:8080/",
          "height": 121
        }
      },
      "source": [
        "y_pred = model.predict(X_test)\n",
        "y_pred"
      ],
      "execution_count": 0,
      "outputs": [
        {
          "output_type": "execute_result",
          "data": {
            "text/plain": [
              "array([[ 40748.96184072],\n",
              "       [122699.62295594],\n",
              "       [ 64961.65717022],\n",
              "       [ 63099.14214487],\n",
              "       [115249.56285456],\n",
              "       [107799.50275317]])"
            ]
          },
          "metadata": {
            "tags": []
          },
          "execution_count": 14
        }
      ]
    },
    {
      "cell_type": "markdown",
      "metadata": {
        "id": "kkmKJ94e3XgC",
        "colab_type": "text"
      },
      "source": [
        "## Step 12. Comparing **predicted values with actual values**"
      ]
    },
    {
      "cell_type": "code",
      "metadata": {
        "id": "5UvI1vMp2gg3",
        "colab_type": "code",
        "outputId": "8e291f58-eacd-4f88-de89-e1ca928693c0",
        "colab": {
          "base_uri": "https://localhost:8080/",
          "height": 233
        }
      },
      "source": [
        "df = pd.DataFrame({'Actual': y_test.flatten(), 'Predicted': y_pred.flatten()})\n",
        "df"
      ],
      "execution_count": 0,
      "outputs": [
        {
          "output_type": "execute_result",
          "data": {
            "text/html": [
              "<div>\n",
              "<style scoped>\n",
              "    .dataframe tbody tr th:only-of-type {\n",
              "        vertical-align: middle;\n",
              "    }\n",
              "\n",
              "    .dataframe tbody tr th {\n",
              "        vertical-align: top;\n",
              "    }\n",
              "\n",
              "    .dataframe thead th {\n",
              "        text-align: right;\n",
              "    }\n",
              "</style>\n",
              "<table border=\"1\" class=\"dataframe\">\n",
              "  <thead>\n",
              "    <tr style=\"text-align: right;\">\n",
              "      <th></th>\n",
              "      <th>Actual</th>\n",
              "      <th>Predicted</th>\n",
              "    </tr>\n",
              "  </thead>\n",
              "  <tbody>\n",
              "    <tr>\n",
              "      <th>0</th>\n",
              "      <td>37731.0</td>\n",
              "      <td>40748.961841</td>\n",
              "    </tr>\n",
              "    <tr>\n",
              "      <th>1</th>\n",
              "      <td>122391.0</td>\n",
              "      <td>122699.622956</td>\n",
              "    </tr>\n",
              "    <tr>\n",
              "      <th>2</th>\n",
              "      <td>57081.0</td>\n",
              "      <td>64961.657170</td>\n",
              "    </tr>\n",
              "    <tr>\n",
              "      <th>3</th>\n",
              "      <td>63218.0</td>\n",
              "      <td>63099.142145</td>\n",
              "    </tr>\n",
              "    <tr>\n",
              "      <th>4</th>\n",
              "      <td>116969.0</td>\n",
              "      <td>115249.562855</td>\n",
              "    </tr>\n",
              "    <tr>\n",
              "      <th>5</th>\n",
              "      <td>109431.0</td>\n",
              "      <td>107799.502753</td>\n",
              "    </tr>\n",
              "  </tbody>\n",
              "</table>\n",
              "</div>"
            ],
            "text/plain": [
              "     Actual      Predicted\n",
              "0   37731.0   40748.961841\n",
              "1  122391.0  122699.622956\n",
              "2   57081.0   64961.657170\n",
              "3   63218.0   63099.142145\n",
              "4  116969.0  115249.562855\n",
              "5  109431.0  107799.502753"
            ]
          },
          "metadata": {
            "tags": []
          },
          "execution_count": 15
        }
      ]
    },
    {
      "cell_type": "markdown",
      "metadata": {
        "id": "9NQ3J4wu9jbe",
        "colab_type": "text"
      },
      "source": [
        "## Step 13. comparing actual values and predicted values on **graph visualization**."
      ]
    },
    {
      "cell_type": "code",
      "metadata": {
        "id": "1EKhxs2B9DKM",
        "colab_type": "code",
        "outputId": "45e21157-afb9-4c06-be8f-e9fd6bb87d5d",
        "colab": {
          "base_uri": "https://localhost:8080/",
          "height": 425
        }
      },
      "source": [
        "df1 = df.head(30)\n",
        "df1.plot(kind='bar',figsize=(10,7))\n",
        "plt.grid(which='major', linestyle='-', linewidth='0.5', color='green')\n",
        "plt.grid(which='minor', linestyle=':', linewidth='0.5', color='black')\n",
        "plt.show()"
      ],
      "execution_count": 0,
      "outputs": [
        {
          "output_type": "display_data",
          "data": {
            "image/png": "[encoded data removed]",
            "text/plain": [
              "<Figure size 720x504 with 1 Axes>"
            ]
          },
          "metadata": {
            "tags": []
          }
        }
      ]
    },
    {
      "cell_type": "markdown",
      "metadata": {
        "id": "dRQjRdMo_1cf",
        "colab_type": "text"
      },
      "source": [
        "## Step 14. **Evaluating** the model with grapgh visualization"
      ]
    },
    {
      "cell_type": "code",
      "metadata": {
        "id": "zsCk_W7-9d2z",
        "colab_type": "code",
        "outputId": "831c2a2b-9fe2-4f37-e056-2729adbce306",
        "colab": {
          "base_uri": "https://localhost:8080/",
          "height": 265
        }
      },
      "source": [
        "plt.scatter(X_test, y_test,  color='blue')\n",
        "plt.plot(X_test, y_pred, color='red', linewidth=1)\n",
        "plt.show()"
      ],
      "execution_count": 0,
      "outputs": [
        {
          "output_type": "display_data",
          "data": {
            "image/png": "[encoded data removed]",
            "text/plain": [
              "<Figure size 432x288 with 1 Axes>"
            ]
          },
          "metadata": {
            "tags": []
          }
        }
      ]
    },
    {
      "cell_type": "code",
      "metadata": {
        "id": "t14pKO5I9uDl",
        "colab_type": "code",
        "outputId": "51eecd6e-56f7-45b9-f363-4b7ebb0c05ee",
        "colab": {
          "base_uri": "https://localhost:8080/",
          "height": 69
        }
      },
      "source": [
        "print('Mean Absolute Error:', metrics.mean_absolute_error(y_test, y_pred))  \n",
        "print('Mean Squared Error:', metrics.mean_squared_error(y_test, y_pred))  \n",
        "print('Root Mean Squared Error:', np.sqrt(metrics.mean_squared_error(y_test, y_pred)))"
      ],
      "execution_count": 0,
      "outputs": [
        {
          "output_type": "stream",
          "text": [
            "Mean Absolute Error: 2446.1723690465055\n",
            "Mean Squared Error: 12823412.298126549\n",
            "Root Mean Squared Error: 3580.979237321343\n"
          ],
          "name": "stdout"
        }
      ]
    },
    {
      "cell_type": "markdown",
      "metadata": {
        "id": "TwPIFQzZBfUp",
        "colab_type": "text"
      },
      "source": [
        "## Step 15. **Testing** the model "
      ]
    },
    {
      "cell_type": "code",
      "metadata": {
        "id": "SKY-mggFADOD",
        "colab_type": "code",
        "outputId": "1373d2fb-71c3-4084-e6fb-91931c21cc13",
        "colab": {
          "base_uri": "https://localhost:8080/",
          "height": 35
        }
      },
      "source": [
        "test=model.predict([[12]])          # predicting the value using trained model.\n",
        "test"
      ],
      "execution_count": 0,
      "outputs": [
        {
          "output_type": "execute_result",
          "data": {
            "text/plain": [
              "array([[138531.00067138]])"
            ]
          },
          "metadata": {
            "tags": []
          },
          "execution_count": 20
        }
      ]
    }
  ]
}